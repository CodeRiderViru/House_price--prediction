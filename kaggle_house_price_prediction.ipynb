{
 "cells": [
  {
   "cell_type": "code",
   "execution_count": 50,
   "metadata": {},
   "outputs": [],
   "source": [
    "import pandas as pd"
   ]
  },
  {
   "cell_type": "code",
   "execution_count": 135,
   "metadata": {},
   "outputs": [],
   "source": [
    "import numpy as np\n",
    "sales=pd.read_csv('train.csv')"
   ]
  },
  {
   "cell_type": "code",
   "execution_count": 176,
   "metadata": {},
   "outputs": [],
   "source": [
    "def get_numpy_data(data_frame ,input_feature ,output ):\n",
    "    data_frame['constant']=1\n",
    "    input_feature=['constant']+input_feature\n",
    "    data_frame_sel_feat=data_frame[input_feature]\n",
    "    data_frame_sel_feat_matrix=data_frame_sel_feat.values\n",
    "    #output_numarray=data_frame[output].values\n",
    "    \n",
    "    return (data_frame_sel_feat_matrix) #,output_numarray)"
   ]
  },
  {
   "cell_type": "code",
   "execution_count": 137,
   "metadata": {},
   "outputs": [],
   "source": [
    "from sklearn import preprocessing as pl"
   ]
  },
  {
   "cell_type": "code",
   "execution_count": 138,
   "metadata": {},
   "outputs": [],
   "source": [
    "def normalized_features(feature_matrix):\n",
    "    norm=np.linalg.norm(feature_matrix)\n",
    "    feature_matrix=feature_matrix/norm\n",
    "    return feature_matrix ,norm"
   ]
  },
  {
   "cell_type": "code",
   "execution_count": 139,
   "metadata": {},
   "outputs": [],
   "source": [
    "features=['LotArea']"
   ]
  },
  {
   "cell_type": "code",
   "execution_count": 140,
   "metadata": {},
   "outputs": [],
   "source": [
    "test_sales=pd.read_csv('test.csv')"
   ]
  },
  {
   "cell_type": "code",
   "execution_count": 188,
   "metadata": {},
   "outputs": [],
   "source": [
    "sales['LotArea']=sales['LotArea'].astype(float)\n",
    "test_sales['LotArea']=test_sales['LotArea'].astype(float)"
   ]
  },
  {
   "cell_type": "code",
   "execution_count": 160,
   "metadata": {},
   "outputs": [
    {
     "data": {
      "text/plain": [
       "array([[1.000e+00, 8.450e+03],\n",
       "       [1.000e+00, 9.600e+03],\n",
       "       [1.000e+00, 1.125e+04],\n",
       "       ...,\n",
       "       [1.000e+00, 9.042e+03],\n",
       "       [1.000e+00, 9.717e+03],\n",
       "       [1.000e+00, 9.937e+03]])"
      ]
     },
     "execution_count": 160,
     "metadata": {},
     "output_type": "execute_result"
    }
   ],
   "source": [
    "train_matrix,train_output=get_numpy_data(sales ,features ,'SalePrice')\n",
    "train_matrix"
   ]
  },
  {
   "cell_type": "code",
   "execution_count": 161,
   "metadata": {},
   "outputs": [],
   "source": [
    "def k_nearest_neighbour(feature_matrix ,query_house,k):\n",
    "    dist2knn=np.empty(k)\n",
    "    for i in range(k):\n",
    "        dist2knn[i] =np.sqrt(np.sum((feature_matrix[i]-query_house)**2))\n",
    "    houses=np.argsort(dist2knn)\n",
    "    dist2knn.sort()\n",
    "    for i in range(k ,len(feature_matrix)):\n",
    "        dist_i=np.sqrt(np.sum((feature_matrix[i]-query_house)**2))\n",
    "        if(dist_i<dist2knn[k-1]):\n",
    "            if dist_i<dist2knn[0]:\n",
    "                dist2knn[1:k]=dist2knn[0:k-1]\n",
    "                houses[1:k]=houses[0:k-1]\n",
    "                dist2knn[0]=dist_i\n",
    "                houses[0]=i\n",
    "            else:\n",
    "                for j in range(1 ,k):\n",
    "                    if dist_i>dist2knn[j-1] and dist_i<dist2knn[j]:\n",
    "                        dist2knn[j+1:k]=dist2knn[j:k-1]\n",
    "                        houses[j+1:k]=houses[j:k-1]\n",
    "                        dist2knn[j]=dist_i\n",
    "                        houses[j]=i\n",
    "    \n",
    "    return(houses)"
   ]
  },
  {
   "cell_type": "code",
   "execution_count": 162,
   "metadata": {},
   "outputs": [],
   "source": [
    "norm2=np.linalg.norm(train_matrix[:,1], axis=0)"
   ]
  },
  {
   "cell_type": "code",
   "execution_count": 163,
   "metadata": {},
   "outputs": [
    {
     "data": {
      "text/plain": [
       "553927.0577332362"
      ]
     },
     "execution_count": 163,
     "metadata": {},
     "output_type": "execute_result"
    }
   ],
   "source": [
    "norm2"
   ]
  },
  {
   "cell_type": "code",
   "execution_count": 164,
   "metadata": {},
   "outputs": [],
   "source": [
    "train_matrix[:,1]=train_matrix[:,1]/norm2"
   ]
  },
  {
   "cell_type": "code",
   "execution_count": 189,
   "metadata": {},
   "outputs": [
    {
     "data": {
      "text/plain": [
       "array([[1.        , 0.0209811 ],\n",
       "       [1.        , 0.0257561 ],\n",
       "       [1.        , 0.02496719],\n",
       "       ...,\n",
       "       [1.        , 0.03610584],\n",
       "       [1.        , 0.01884905],\n",
       "       [1.        , 0.01737954]])"
      ]
     },
     "execution_count": 189,
     "metadata": {},
     "output_type": "execute_result"
    }
   ],
   "source": [
    "test_matrix=get_numpy_data(test_sales ,features ,'SalePrice')\n",
    "test_matrix[:,1]=test_matrix[:,1]/norm2\n",
    "test_matrix"
   ]
  },
  {
   "cell_type": "code",
   "execution_count": 183,
   "metadata": {},
   "outputs": [],
   "source": [
    "\n",
    "    "
   ]
  },
  {
   "cell_type": "code",
   "execution_count": 194,
   "metadata": {},
   "outputs": [
    {
     "data": {
      "text/plain": [
       "127000"
      ]
     },
     "execution_count": 194,
     "metadata": {},
     "output_type": "execute_result"
    }
   ],
   "source": [
    "output_price=[]\n",
    "sales.loc[sales['Id']==50,'SalePrice'].iloc[0]"
   ]
  },
  {
   "cell_type": "code",
   "execution_count": 198,
   "metadata": {},
   "outputs": [],
   "source": [
    "for i in range(len(test_matrix)):\n",
    "    nearest_houses=k_nearest_neighbour(train_matrix ,test_matrix[i:,],6)\n",
    "    price=0\n",
    "    for j in range(len(nearest_houses)):\n",
    "        price+=sales.loc[sales['Id']==nearest_houses[j],'SalePrice'].iloc[0]\n",
    "        \n",
    "    price/=6\n",
    "    output_price.append(price)"
   ]
  },
  {
   "cell_type": "code",
   "execution_count": 200,
   "metadata": {},
   "outputs": [
    {
     "data": {
      "text/plain": [
       "1459"
      ]
     },
     "execution_count": 200,
     "metadata": {},
     "output_type": "execute_result"
    }
   ],
   "source": [
    "len(output_price)"
   ]
  },
  {
   "cell_type": "code",
   "execution_count": 208,
   "metadata": {},
   "outputs": [],
   "source": [
    "submission=pd.DataFrame(index=None,columns=['Id','SalePrice'])\n",
    "submission['Id']=test_sales['Id']\n",
    "submission['SalePrice']=output_price"
   ]
  },
  {
   "cell_type": "code",
   "execution_count": 206,
   "metadata": {},
   "outputs": [],
   "source": [
    "submission.to_csv('submission1.csv' ,index=False)"
   ]
  },
  {
   "cell_type": "code",
   "execution_count": null,
   "metadata": {},
   "outputs": [],
   "source": []
  }
 ],
 "metadata": {
  "kernelspec": {
   "display_name": "Python 2",
   "language": "python",
   "name": "python2"
  },
  "language_info": {
   "codemirror_mode": {
    "name": "ipython",
    "version": 2
   },
   "file_extension": ".py",
   "mimetype": "text/x-python",
   "name": "python",
   "nbconvert_exporter": "python",
   "pygments_lexer": "ipython2",
   "version": "2.7.15"
  }
 },
 "nbformat": 4,
 "nbformat_minor": 2
}
